{
 "cells": [
  {
   "cell_type": "code",
   "execution_count": 2,
   "id": "87c52647",
   "metadata": {},
   "outputs": [],
   "source": [
    "import numpy as np \n",
    "import pandas as pd"
   ]
  },
  {
   "cell_type": "markdown",
   "id": "9febde82",
   "metadata": {},
   "source": [
    "#Question #1 \n",
    "pd.__version__"
   ]
  },
  {
   "cell_type": "code",
   "execution_count": 15,
   "id": "cd1fafa3",
   "metadata": {},
   "outputs": [
    {
     "data": {
      "text/html": [
       "<div>\n",
       "<style scoped>\n",
       "    .dataframe tbody tr th:only-of-type {\n",
       "        vertical-align: middle;\n",
       "    }\n",
       "\n",
       "    .dataframe tbody tr th {\n",
       "        vertical-align: top;\n",
       "    }\n",
       "\n",
       "    .dataframe thead th {\n",
       "        text-align: right;\n",
       "    }\n",
       "</style>\n",
       "<table border=\"1\" class=\"dataframe\">\n",
       "  <thead>\n",
       "    <tr style=\"text-align: right;\">\n",
       "      <th></th>\n",
       "      <th>longitude</th>\n",
       "      <th>latitude</th>\n",
       "      <th>housing_median_age</th>\n",
       "      <th>total_rooms</th>\n",
       "      <th>total_bedrooms</th>\n",
       "      <th>population</th>\n",
       "      <th>households</th>\n",
       "      <th>median_income</th>\n",
       "      <th>median_house_value</th>\n",
       "      <th>ocean_proximity</th>\n",
       "    </tr>\n",
       "  </thead>\n",
       "  <tbody>\n",
       "    <tr>\n",
       "      <th>0</th>\n",
       "      <td>-122.23</td>\n",
       "      <td>37.88</td>\n",
       "      <td>41.0</td>\n",
       "      <td>880.0</td>\n",
       "      <td>129.0</td>\n",
       "      <td>322.0</td>\n",
       "      <td>126.0</td>\n",
       "      <td>8.3252</td>\n",
       "      <td>452600.0</td>\n",
       "      <td>NEAR BAY</td>\n",
       "    </tr>\n",
       "    <tr>\n",
       "      <th>1</th>\n",
       "      <td>-122.22</td>\n",
       "      <td>37.86</td>\n",
       "      <td>21.0</td>\n",
       "      <td>7099.0</td>\n",
       "      <td>1106.0</td>\n",
       "      <td>2401.0</td>\n",
       "      <td>1138.0</td>\n",
       "      <td>8.3014</td>\n",
       "      <td>358500.0</td>\n",
       "      <td>NEAR BAY</td>\n",
       "    </tr>\n",
       "    <tr>\n",
       "      <th>2</th>\n",
       "      <td>-122.24</td>\n",
       "      <td>37.85</td>\n",
       "      <td>52.0</td>\n",
       "      <td>1467.0</td>\n",
       "      <td>190.0</td>\n",
       "      <td>496.0</td>\n",
       "      <td>177.0</td>\n",
       "      <td>7.2574</td>\n",
       "      <td>352100.0</td>\n",
       "      <td>NEAR BAY</td>\n",
       "    </tr>\n",
       "    <tr>\n",
       "      <th>3</th>\n",
       "      <td>-122.25</td>\n",
       "      <td>37.85</td>\n",
       "      <td>52.0</td>\n",
       "      <td>1274.0</td>\n",
       "      <td>235.0</td>\n",
       "      <td>558.0</td>\n",
       "      <td>219.0</td>\n",
       "      <td>5.6431</td>\n",
       "      <td>341300.0</td>\n",
       "      <td>NEAR BAY</td>\n",
       "    </tr>\n",
       "    <tr>\n",
       "      <th>4</th>\n",
       "      <td>-122.25</td>\n",
       "      <td>37.85</td>\n",
       "      <td>52.0</td>\n",
       "      <td>1627.0</td>\n",
       "      <td>280.0</td>\n",
       "      <td>565.0</td>\n",
       "      <td>259.0</td>\n",
       "      <td>3.8462</td>\n",
       "      <td>342200.0</td>\n",
       "      <td>NEAR BAY</td>\n",
       "    </tr>\n",
       "  </tbody>\n",
       "</table>\n",
       "</div>"
      ],
      "text/plain": [
       "   longitude  latitude  housing_median_age  total_rooms  total_bedrooms  \\\n",
       "0    -122.23     37.88                41.0        880.0           129.0   \n",
       "1    -122.22     37.86                21.0       7099.0          1106.0   \n",
       "2    -122.24     37.85                52.0       1467.0           190.0   \n",
       "3    -122.25     37.85                52.0       1274.0           235.0   \n",
       "4    -122.25     37.85                52.0       1627.0           280.0   \n",
       "\n",
       "   population  households  median_income  median_house_value ocean_proximity  \n",
       "0       322.0       126.0         8.3252            452600.0        NEAR BAY  \n",
       "1      2401.0      1138.0         8.3014            358500.0        NEAR BAY  \n",
       "2       496.0       177.0         7.2574            352100.0        NEAR BAY  \n",
       "3       558.0       219.0         5.6431            341300.0        NEAR BAY  \n",
       "4       565.0       259.0         3.8462            342200.0        NEAR BAY  "
      ]
     },
     "execution_count": 15,
     "metadata": {},
     "output_type": "execute_result"
    }
   ],
   "source": [
    "data = pd.read_csv('C:/Users/tonyn/Downloads/raw.githubusercontent.com_alexeygrigorev_datasets_master_housing.csv')\n",
    "df = pd.DataFrame(data)\n",
    "\n",
    "df.head()"
   ]
  },
  {
   "cell_type": "code",
   "execution_count": 26,
   "id": "418261f2",
   "metadata": {},
   "outputs": [
    {
     "name": "stdout",
     "output_type": "stream",
     "text": [
      "The Answer to Question #2 is: 10\n"
     ]
    }
   ],
   "source": [
    "#Question #2 \n",
    "len(df.columns) \n",
    "print(\"The Answer to Question #2 is:\", len(df.columns))"
   ]
  },
  {
   "cell_type": "code",
   "execution_count": 40,
   "id": "df958cec",
   "metadata": {},
   "outputs": [
    {
     "name": "stdout",
     "output_type": "stream",
     "text": [
      "The Answer to Question #3 is: total_bedrooms\n"
     ]
    }
   ],
   "source": [
    "#Question #3\n",
    "df.isnull().any()\n",
    "print(\"The Answer to Question #3 is: total_bedrooms\")"
   ]
  },
  {
   "cell_type": "code",
   "execution_count": 44,
   "id": "966cb4a5",
   "metadata": {},
   "outputs": [
    {
     "name": "stdout",
     "output_type": "stream",
     "text": [
      "The Answer to Question #4 is: 5\n"
     ]
    }
   ],
   "source": [
    "#Question #4 \n",
    "df.ocean_proximity.nunique()\n",
    "print(\"The Answer to Question #4 is:\", df.ocean_proximity.nunique())"
   ]
  },
  {
   "cell_type": "code",
   "execution_count": 76,
   "id": "de31c34f",
   "metadata": {},
   "outputs": [
    {
     "name": "stdout",
     "output_type": "stream",
     "text": [
      "The Answer to Question #5 is: 259212.31179039303\n"
     ]
    }
   ],
   "source": [
    "#Question #5 \n",
    "near_bay = df.loc[:,'ocean_proximity'] == \"NEAR BAY\"\n",
    "df2 = df[df.loc[:,'ocean_proximity'] == \"NEAR BAY\"]\n",
    "df2['median_house_value'].mean()\n",
    "\n",
    "print(\"The Answer to Question #5 is:\", df2['median_house_value'].mean())"
   ]
  },
  {
   "cell_type": "code",
   "execution_count": 124,
   "id": "664bbc77",
   "metadata": {},
   "outputs": [
    {
     "name": "stdout",
     "output_type": "stream",
     "text": [
      "537.8705525375618\n",
      "537.8705525375617\n"
     ]
    }
   ],
   "source": [
    "#Question #6 \n",
    "replace_val = df['total_bedrooms'].mean() #with NA\n",
    "df3 = df.fillna(value= replace_val)\n",
    "df3['total_bedrooms'].mean() #without NA\n",
    "\n",
    "print(replace_val)\n",
    "print(df3['total_bedrooms'].mean())\n",
    "\n",
    "print(\"The Answer to Question #6 is: No\")"
   ]
  },
  {
   "cell_type": "code",
   "execution_count": 183,
   "id": "f0764caf",
   "metadata": {},
   "outputs": [
    {
     "name": "stdout",
     "output_type": "stream",
     "text": [
      "The Answer to Question #7 is: 5.699229455065575\n"
     ]
    }
   ],
   "source": [
    "#Question #7 \n",
    "q7 = df.loc[df['ocean_proximity'] == 'ISLAND']\n",
    "X = q7.loc[:,['housing_median_age', 'total_rooms', 'total_bedrooms']].values\n",
    "XTX = np.matmul(X.T,X)\n",
    "inv_XTX = np.linalg.inv(XTX)\n",
    "y = [950, 1300, 800, 1000, 1300] \n",
    "\n",
    "mult1 = np.matmul(inv_XTX,X.T) \n",
    "w = np.matmul(mult1,y)\n",
    "w[-1]\n",
    "\n",
    "\n",
    "\n",
    "print(\"The Answer to Question #7 is:\", w[-1])"
   ]
  }
 ],
 "metadata": {
  "kernelspec": {
   "display_name": "Python 3 (ipykernel)",
   "language": "python",
   "name": "python3"
  },
  "language_info": {
   "codemirror_mode": {
    "name": "ipython",
    "version": 3
   },
   "file_extension": ".py",
   "mimetype": "text/x-python",
   "name": "python",
   "nbconvert_exporter": "python",
   "pygments_lexer": "ipython3",
   "version": "3.9.18"
  }
 },
 "nbformat": 4,
 "nbformat_minor": 5
}
